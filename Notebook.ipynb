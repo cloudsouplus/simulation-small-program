{
 "cells": [
  {
   "cell_type": "markdown",
   "metadata": {},
   "source": [
    "## Objective\n",
    "\n",
    "ASRC のシミュレーション用に，表面粗さをもつ水素終端ダイアモンド基板のデータを Lammps' DATA の形式で用意する．"
   ]
  },
  {
   "cell_type": "markdown",
   "metadata": {
    "heading_collapsed": true
   },
   "source": [
    "### 上下面の分割\n",
    "\n",
    "$z$ 座標が 60 angstrom より小さいかどうかで判断する．"
   ]
  },
  {
   "cell_type": "code",
   "execution_count": 1,
   "metadata": {
    "ExecuteTime": {
     "end_time": "2017-09-27T07:42:25.069978Z",
     "start_time": "2017-09-27T07:42:24.741006Z"
    },
    "hidden": true
   },
   "outputs": [
    {
     "name": "stdout",
     "output_type": "stream",
     "text": [
      "16800\n",
      "16800\n"
     ]
    }
   ],
   "source": [
    "# ファイルの読み込み\n",
    "with open('data.SolidPlates','r') as f:\n",
    "    data = f.read()\n",
    "lines = data.split('\\n')\n",
    "# 上下面の Atom-ID を取得する\n",
    "lower_atom_ids = []\n",
    "upper_atom_ids = []\n",
    "is_atoms_section = False\n",
    "blank_counter = 0\n",
    "for line in lines:\n",
    "    \n",
    "    if is_atoms_section:\n",
    "        if line:\n",
    "            vals = line.split()\n",
    "            z = float(vals[6])\n",
    "            if z < 60:\n",
    "                lower_atom_ids.append(int(vals[0]))\n",
    "            else:\n",
    "                upper_atom_ids.append(int(vals[0]))\n",
    "        else:\n",
    "            blank_counter += 1\n",
    "            if 1 < blank_counter:\n",
    "                is_atoms_section = False\n",
    "                blank_counter = 0\n",
    "                \n",
    "    if line == \"Atoms\":\n",
    "        is_atoms_section = True\n",
    "        \n",
    "print(len(lower_atom_ids))\n",
    "print(len(upper_atom_ids))"
   ]
  },
  {
   "cell_type": "markdown",
   "metadata": {
    "hidden": true
   },
   "source": [
    "List から要素を検索する時間は $O(n)$ であり，非常に長い．そこで，List を Set に変換しておく．これにより，$O(1)$ に負荷が低減される．"
   ]
  },
  {
   "cell_type": "code",
   "execution_count": 2,
   "metadata": {
    "ExecuteTime": {
     "end_time": "2017-09-27T07:42:29.651985Z",
     "start_time": "2017-09-27T07:42:29.646601Z"
    },
    "collapsed": true,
    "hidden": true
   },
   "outputs": [],
   "source": [
    "lower_atom_ids = set(lower_atom_ids)\n",
    "upper_atom_ids = set(upper_atom_ids)"
   ]
  },
  {
   "cell_type": "markdown",
   "metadata": {
    "hidden": true
   },
   "source": [
    "Bond の両端の原子の ID で判断する．片側の原子のみで大丈夫なはずだが，チェック込みで両端を使う．"
   ]
  },
  {
   "cell_type": "code",
   "execution_count": 3,
   "metadata": {
    "ExecuteTime": {
     "end_time": "2017-09-27T07:42:32.399770Z",
     "start_time": "2017-09-27T07:42:32.162865Z"
    },
    "hidden": true
   },
   "outputs": [
    {
     "name": "stdout",
     "output_type": "stream",
     "text": [
      "31300\n",
      "31300\n"
     ]
    }
   ],
   "source": [
    "# 上下面の Bond-ID を取得する\n",
    "lower_bond_ids = []\n",
    "upper_bond_ids = []\n",
    "is_bonds_section = False\n",
    "blank_counter = 0\n",
    "for line in lines:\n",
    "    \n",
    "    if is_bonds_section:\n",
    "        if line:\n",
    "            vals = line.split()\n",
    "            atom_i_id = int(vals[2])\n",
    "            atom_j_id = int(vals[3])\n",
    "            if atom_i_id in lower_atom_ids and atom_j_id in lower_atom_ids:\n",
    "                lower_bond_ids.append(int(vals[0]))\n",
    "            elif atom_i_id in upper_atom_ids and atom_j_id in upper_atom_ids:\n",
    "                upper_bond_ids.append(int(vals[0]))\n",
    "            else:\n",
    "                print(\"Warning\")\n",
    "        else:\n",
    "            blank_counter += 1\n",
    "            if 1 < blank_counter:\n",
    "                is_bonds_section = False\n",
    "                blank_counter = 0\n",
    "                \n",
    "    if line == \"Bonds\":\n",
    "        is_bonds_section = True\n",
    "        \n",
    "print(len(lower_bond_ids))\n",
    "print(len(upper_bond_ids))"
   ]
  },
  {
   "cell_type": "markdown",
   "metadata": {
    "hidden": true
   },
   "source": [
    "真ん中の原子のみで判断する．"
   ]
  },
  {
   "cell_type": "code",
   "execution_count": 4,
   "metadata": {
    "ExecuteTime": {
     "end_time": "2017-09-27T07:42:38.075006Z",
     "start_time": "2017-09-27T07:42:37.725314Z"
    },
    "hidden": true
   },
   "outputs": [
    {
     "name": "stdout",
     "output_type": "stream",
     "text": [
      "90800\n",
      "90800\n"
     ]
    }
   ],
   "source": [
    "# 上下面の Angle-ID を取得する\n",
    "lower_angle_ids = []\n",
    "upper_angle_ids = []\n",
    "is_angles_section = False\n",
    "blank_counter = 0\n",
    "for line in lines:\n",
    "    \n",
    "    if is_angles_section:\n",
    "        if line:\n",
    "            vals = line.split()\n",
    "            atom_id = int(vals[3])\n",
    "            if atom_id in lower_atom_ids:\n",
    "                lower_angle_ids.append(int(vals[0]))\n",
    "            elif atom_id in upper_atom_ids:\n",
    "                upper_angle_ids.append(int(vals[0]))\n",
    "            else:\n",
    "                print(\"Warning\")\n",
    "        else:\n",
    "            blank_counter += 1\n",
    "            if 1 < blank_counter:\n",
    "                is_angles_section = False\n",
    "                blank_counter = 0\n",
    "                \n",
    "    if line == \"Angles\":\n",
    "        is_angles_section = True\n",
    "        \n",
    "print(len(lower_angle_ids))\n",
    "print(len(upper_angle_ids))"
   ]
  },
  {
   "cell_type": "markdown",
   "metadata": {
    "hidden": true
   },
   "source": [
    "2 つ目の原子のみで判断する．"
   ]
  },
  {
   "cell_type": "code",
   "execution_count": 5,
   "metadata": {
    "ExecuteTime": {
     "end_time": "2017-09-27T07:42:41.312948Z",
     "start_time": "2017-09-27T07:42:40.508338Z"
    },
    "hidden": true
   },
   "outputs": [
    {
     "name": "stdout",
     "output_type": "stream",
     "text": [
      "263100\n",
      "263100\n"
     ]
    }
   ],
   "source": [
    "# 上下面の Dihedral-ID を取得する\n",
    "lower_dihedral_ids = []\n",
    "upper_dihedral_ids = []\n",
    "is_dihedrals_section = False\n",
    "blank_counter = 0\n",
    "for line in lines:\n",
    "    \n",
    "    if is_dihedrals_section:\n",
    "        if line:\n",
    "            vals = line.split()\n",
    "            atom_id = int(vals[3])\n",
    "            if atom_id in lower_atom_ids:\n",
    "                lower_dihedral_ids.append(int(vals[0]))\n",
    "            elif atom_id in upper_atom_ids:\n",
    "                upper_dihedral_ids.append(int(vals[0]))\n",
    "            else:\n",
    "                print(\"Warning\")\n",
    "        else:\n",
    "            blank_counter += 1\n",
    "            if 1 < blank_counter:\n",
    "                is_dihedrals_section = False\n",
    "                blank_counter = 0\n",
    "                \n",
    "    if line == \"Dihedrals\":\n",
    "        is_dihedrals_section = True\n",
    "        \n",
    "print(len(lower_dihedral_ids))\n",
    "print(len(upper_dihedral_ids))"
   ]
  },
  {
   "cell_type": "markdown",
   "metadata": {
    "ExecuteTime": {
     "end_time": "2017-09-27T07:05:59.990571Z",
     "start_time": "2017-09-27T07:05:59.984974Z"
    },
    "hidden": true
   },
   "source": [
    "2 つ目の原子のみで判断する．"
   ]
  },
  {
   "cell_type": "code",
   "execution_count": 6,
   "metadata": {
    "ExecuteTime": {
     "end_time": "2017-09-27T07:43:24.503403Z",
     "start_time": "2017-09-27T07:43:24.243342Z"
    },
    "hidden": true
   },
   "outputs": [
    {
     "name": "stdout",
     "output_type": "stream",
     "text": [
      "60000\n",
      "60000\n"
     ]
    }
   ],
   "source": [
    "# 上下面の Improper-ID を取得する\n",
    "lower_improper_ids = []\n",
    "upper_improper_ids = []\n",
    "is_impropers_section = False\n",
    "blank_counter = 0\n",
    "for line in lines:\n",
    "    \n",
    "    if is_impropers_section:\n",
    "        if line:\n",
    "            vals = line.split()\n",
    "            atom_id = int(vals[3])\n",
    "            if atom_id in lower_atom_ids:\n",
    "                lower_improper_ids.append(int(vals[0]))\n",
    "            elif atom_id in upper_atom_ids:\n",
    "                upper_improper_ids.append(int(vals[0]))\n",
    "            else:\n",
    "                print(\"Warning\")\n",
    "        else:\n",
    "            blank_counter += 1\n",
    "            if 1 < blank_counter:\n",
    "                is_impropers_section = False\n",
    "                blank_counter = 0\n",
    "                \n",
    "    if line == \"Impropers\":\n",
    "        is_impropers_section = True\n",
    "        \n",
    "print(len(lower_improper_ids))\n",
    "print(len(upper_improper_ids))"
   ]
  },
  {
   "cell_type": "markdown",
   "metadata": {
    "hidden": true
   },
   "source": [
    "下側固体の DATA を作成する．"
   ]
  },
  {
   "cell_type": "code",
   "execution_count": 7,
   "metadata": {
    "ExecuteTime": {
     "end_time": "2017-09-27T07:43:35.978498Z",
     "start_time": "2017-09-27T07:43:35.948212Z"
    },
    "collapsed": true,
    "hidden": true
   },
   "outputs": [],
   "source": [
    "# データまとめ\n",
    "lower_ids = {\n",
    "    \"Atoms\": lower_atom_ids,\n",
    "    \"Bonds\": set(lower_bond_ids),\n",
    "    \"Angles\": set(lower_angle_ids),\n",
    "    \"Dihedrals\": set(lower_dihedral_ids),\n",
    "    \"Impropers\": set(lower_improper_ids)\n",
    "}"
   ]
  },
  {
   "cell_type": "code",
   "execution_count": 8,
   "metadata": {
    "ExecuteTime": {
     "end_time": "2017-09-27T07:43:42.545766Z",
     "start_time": "2017-09-27T07:43:41.178188Z"
    },
    "hidden": true
   },
   "outputs": [
    {
     "name": "stdout",
     "output_type": "stream",
     "text": [
      "Atoms: 16800\n",
      "Bonds: 31300\n",
      "Angles: 90800\n",
      "Dihedrals: 263100\n",
      "Impropers: 60000\n"
     ]
    }
   ],
   "source": [
    "# ファイルへ書き込み\n",
    "with open('data.SolidPlates_lower','w') as f:\n",
    "    \n",
    "    is_header = True\n",
    "    section_name = None\n",
    "    section_counter = 0\n",
    "    \n",
    "    for line in lines:\n",
    "        if is_header:\n",
    "            if line == \"33600 atoms\":\n",
    "                f.write(\"16800 atoms\" + '\\n')\n",
    "            elif line == \"62600 bonds\":\n",
    "                f.write(\"31300 bonds\" + '\\n')\n",
    "            elif line == \"181600 angles\":\n",
    "                f.write(\"90800 angles\" + '\\n')\n",
    "            elif line == \"526200 dihedrals\":\n",
    "                f.write(\"263100 dihedrals\" + '\\n')\n",
    "            elif line == \"120000 impropers\":\n",
    "                f.write(\"60000 impropers\" + '\\n')\n",
    "            elif line == \"Atoms\":\n",
    "                is_header = False\n",
    "                section_name = line\n",
    "                f.write(line + '\\n')\n",
    "            else:\n",
    "                f.write(line + '\\n')\n",
    "        else:\n",
    "            if line in [\"Bonds\", \"Angles\", \"Dihedrals\", \"Impropers\"]:\n",
    "                print(\"{}: {}\".format(section_name, section_counter))\n",
    "                section_counter = 0\n",
    "                section_name = line\n",
    "                f.write(line + '\\n')\n",
    "            else:\n",
    "                if line:\n",
    "                    vals = line.split()\n",
    "                    ID = int(vals[0])\n",
    "                    if ID in lower_ids[section_name]:\n",
    "                        f.write(line + '\\n')\n",
    "                        section_counter += 1\n",
    "                else:\n",
    "                    f.write(line + '\\n')\n",
    "                    \n",
    "print(\"{}: {}\".format(section_name, section_counter))\n",
    "            "
   ]
  },
  {
   "cell_type": "markdown",
   "metadata": {
    "hidden": true
   },
   "source": [
    "上側固体の DATA を作成する．"
   ]
  },
  {
   "cell_type": "code",
   "execution_count": 9,
   "metadata": {
    "ExecuteTime": {
     "end_time": "2017-09-27T07:52:44.013814Z",
     "start_time": "2017-09-27T07:52:43.985428Z"
    },
    "collapsed": true,
    "hidden": true
   },
   "outputs": [],
   "source": [
    "# データまとめ\n",
    "upper_ids = {\n",
    "    \"Atoms\": upper_atom_ids,\n",
    "    \"Bonds\": set(upper_bond_ids),\n",
    "    \"Angles\": set(upper_angle_ids),\n",
    "    \"Dihedrals\": set(upper_dihedral_ids),\n",
    "    \"Impropers\": set(upper_improper_ids)\n",
    "}"
   ]
  },
  {
   "cell_type": "code",
   "execution_count": 10,
   "metadata": {
    "ExecuteTime": {
     "end_time": "2017-09-27T07:52:47.790756Z",
     "start_time": "2017-09-27T07:52:46.492632Z"
    },
    "hidden": true
   },
   "outputs": [
    {
     "name": "stdout",
     "output_type": "stream",
     "text": [
      "Atoms: 16800\n",
      "Bonds: 31300\n",
      "Angles: 90800\n",
      "Dihedrals: 263100\n",
      "Impropers: 60000\n"
     ]
    }
   ],
   "source": [
    "# ファイルへ書き込み\n",
    "with open('data.SolidPlates_upper','w') as f:\n",
    "    \n",
    "    is_header = True\n",
    "    section_name = None\n",
    "    section_counter = 0\n",
    "    \n",
    "    for line in lines:\n",
    "        if is_header:\n",
    "            if line == \"33600 atoms\":\n",
    "                f.write(\"16800 atoms\" + '\\n')\n",
    "            elif line == \"62600 bonds\":\n",
    "                f.write(\"31300 bonds\" + '\\n')\n",
    "            elif line == \"181600 angles\":\n",
    "                f.write(\"90800 angles\" + '\\n')\n",
    "            elif line == \"526200 dihedrals\":\n",
    "                f.write(\"263100 dihedrals\" + '\\n')\n",
    "            elif line == \"120000 impropers\":\n",
    "                f.write(\"60000 impropers\" + '\\n')\n",
    "            elif line == \"Atoms\":\n",
    "                is_header = False\n",
    "                section_name = line\n",
    "                f.write(line + '\\n')\n",
    "            else:\n",
    "                f.write(line + '\\n')\n",
    "        else:\n",
    "            if line in [\"Bonds\", \"Angles\", \"Dihedrals\", \"Impropers\"]:\n",
    "                print(\"{}: {}\".format(section_name, section_counter))\n",
    "                section_counter = 0\n",
    "                section_name = line\n",
    "                f.write(line + '\\n')\n",
    "            else:\n",
    "                if line:\n",
    "                    vals = line.split()\n",
    "                    ID = int(vals[0])\n",
    "                    if ID in upper_ids[section_name]:\n",
    "                        f.write(line + '\\n')\n",
    "                        section_counter += 1\n",
    "                else:\n",
    "                    f.write(line + '\\n')\n",
    "                    \n",
    "print(\"{}: {}\".format(section_name, section_counter))\n",
    "            "
   ]
  },
  {
   "cell_type": "markdown",
   "metadata": {
    "heading_collapsed": true
   },
   "source": [
    "### Unit Cell (Disk)"
   ]
  },
  {
   "cell_type": "markdown",
   "metadata": {
    "hidden": true
   },
   "source": [
    "$0 < x < 10.0578 \\ \\unicode[.8,0]{x212B}, \\ 0 < y < 10.0578 \\ \\unicode[.8,0]{x212B}$ の領域を Unit Cell としてデータを取り出す．\n",
    "Bond, Angle, Dihedral, Improper が Unit Cell に含まれるかについては，原子シーケンスの 1 番目の原子が含まれるかどうかで判断する．\n",
    "Bond, Angle, Dihedral, Improper の原子シーケンスのデータは Dictionary 型で，\n",
    "\n",
    "```\n",
    "{\"cell\": (ix, iy), \"serial\": i}\n",
    "```\n",
    "\n",
    "の形で得る．ここで，`(ix, iy)` はオリジナルのセルから見たときのセルの位置座標で，-1, 0, 1 のいずれかになるはずである．`serial` は Unit Cell 内での ID のことである．\n"
   ]
  },
  {
   "cell_type": "markdown",
   "metadata": {
    "heading_collapsed": true,
    "hidden": true
   },
   "source": [
    "#### Atom の取得\n",
    "\n",
    "つぎのデータ形式のリストとして得る．分子と周期境界条件に関するデータはすべて 0 なので，記憶しておく必要はない．\n",
    "\n",
    "```\n",
    "atom_list = {\n",
    "    \"serial\": int,\n",
    "    \"id\": int,\n",
    "    \"type\": int,\n",
    "    \"charge\": float,\n",
    "    \"x\": float,\n",
    "    \"y\": float,\n",
    "    \"z\": float\n",
    "}\n",
    "```"
   ]
  },
  {
   "cell_type": "code",
   "execution_count": 158,
   "metadata": {
    "ExecuteTime": {
     "end_time": "2017-09-28T07:53:28.605619Z",
     "start_time": "2017-09-28T07:53:28.415013Z"
    },
    "hidden": true
   },
   "outputs": [],
   "source": [
    "# ファイルの読み込み\n",
    "with open('data.SolidPlates_lower','r') as f:\n",
    "    data = f.read()\n",
    "lines = data.split('\\n')\n",
    "# データの取得\n",
    "atom_list = []\n",
    "serial = 0\n",
    "is_atoms_section = False\n",
    "blank_counter = 0\n",
    "for line in lines:\n",
    "    \n",
    "    if is_atoms_section:\n",
    "        if line:\n",
    "            vals = line.split()\n",
    "            x = float(vals[4])\n",
    "            y = float(vals[5])\n",
    "            if (0.0 < x and x < 10.0578) and (0.0 < y and y < 10.0578):\n",
    "                serial += 1\n",
    "                atom_list.append({\n",
    "                        \"serial\": serial,\n",
    "                        \"id\": int(vals[0]),\n",
    "                        \"type\": int(vals[2]),\n",
    "                        \"charge\": float(vals[3]),\n",
    "                        \"x\": x,\n",
    "                        \"y\": y,\n",
    "                        \"z\": float(vals[6])\n",
    "                })\n",
    "        else:\n",
    "            blank_counter += 1\n",
    "            if 1 < blank_counter:\n",
    "                is_atoms_section = False\n",
    "                blank_counter = 0\n",
    "                \n",
    "    if line == \"Atoms\":\n",
    "        is_atoms_section = True\n"
   ]
  },
  {
   "cell_type": "markdown",
   "metadata": {
    "hidden": true
   },
   "source": [
    "Unit Cell に属する原子の Original ID を集めた Set を作成しておく．"
   ]
  },
  {
   "cell_type": "code",
   "execution_count": 159,
   "metadata": {
    "ExecuteTime": {
     "end_time": "2017-09-28T07:53:30.607170Z",
     "start_time": "2017-09-28T07:53:30.600670Z"
    },
    "hidden": true
   },
   "outputs": [
    {
     "name": "stdout",
     "output_type": "stream",
     "text": [
      "336\n"
     ]
    }
   ],
   "source": [
    "ids_in_unit_cell = []\n",
    "for atom in atom_list:\n",
    "    ids_in_unit_cell.append(atom['id'])\n",
    "ids_in_unit_cell = set(ids_in_unit_cell)\n",
    "print(len(ids_in_unit_cell))"
   ]
  },
  {
   "cell_type": "markdown",
   "metadata": {
    "heading_collapsed": true,
    "hidden": true
   },
   "source": [
    "#### 原子シーケンス用のデータ\n",
    "\n",
    "```\n",
    "{\"cell\": (ix, iy), \"serial\": i}\n",
    "```"
   ]
  },
  {
   "cell_type": "markdown",
   "metadata": {
    "hidden": true
   },
   "source": [
    "すべての原子について，ID から原子シーケンス用のデータへの Dictionary を作成しておく．"
   ]
  },
  {
   "cell_type": "code",
   "execution_count": 160,
   "metadata": {
    "ExecuteTime": {
     "end_time": "2017-09-28T07:53:36.342027Z",
     "start_time": "2017-09-28T07:53:34.749395Z"
    },
    "hidden": true
   },
   "outputs": [],
   "source": [
    "tolerance = 0.1\n",
    "# ファイルの読み込み\n",
    "with open('data.SolidPlates_lower','r') as f:\n",
    "    data = f.read()\n",
    "lines = data.split('\\n')\n",
    "# データの取得\n",
    "id_to_sequence = {}\n",
    "is_atoms_section = False\n",
    "blank_counter = 0\n",
    "for line in lines:\n",
    "    \n",
    "    if is_atoms_section:\n",
    "        if line:\n",
    "            vals = line.split()\n",
    "            x = float(vals[4])\n",
    "            y = float(vals[5])\n",
    "            z = float(vals[6])\n",
    "            ix = int(x/10.0578)\n",
    "            iy = int(y/10.0578)\n",
    "            wrapped_x = x - ix*10.0578\n",
    "            wrapped_y = y - iy*10.0578\n",
    "            correspond_counter = 0\n",
    "            for atom in atom_list:\n",
    "                if (tolerance < abs(atom[\"x\"] - wrapped_x)):\n",
    "                    continue\n",
    "                if (tolerance < abs(atom[\"y\"] - wrapped_y)):\n",
    "                    continue\n",
    "                if (tolerance < abs(atom[\"z\"] - z)):\n",
    "                    continue\n",
    "                correspond_counter += 1\n",
    "                id_to_sequence[vals[0]] = {\n",
    "                    \"cell\": (ix if ix < 9 else -1, iy if iy < 4 else -1),\n",
    "                    \"serial\": atom[\"serial\"]\n",
    "                }\n",
    "            if not correspond_counter == 1:\n",
    "                print(\"Warning\")\n",
    "                \n",
    "        else:\n",
    "            blank_counter += 1\n",
    "            if 1 < blank_counter:\n",
    "                is_atoms_section = False\n",
    "                blank_counter = 0\n",
    "                \n",
    "    if line == \"Atoms\":\n",
    "        is_atoms_section = True\n",
    "        "
   ]
  },
  {
   "cell_type": "markdown",
   "metadata": {
    "heading_collapsed": true,
    "hidden": true
   },
   "source": [
    "#### Bond の取得\n",
    "\n",
    "```\n",
    "bond_list = {\n",
    "    \"serial\": int,\n",
    "    \"id\": int,\n",
    "    \"type\": int,\n",
    "    \"atom1\": {(0, 0) & serial},\n",
    "    \"atom2\": {cell & serial}\n",
    "}\n",
    "```"
   ]
  },
  {
   "cell_type": "code",
   "execution_count": 161,
   "metadata": {
    "ExecuteTime": {
     "end_time": "2017-09-28T07:53:44.938371Z",
     "start_time": "2017-09-28T07:53:44.709773Z"
    },
    "hidden": true
   },
   "outputs": [],
   "source": [
    "# ファイルの読み込み\n",
    "with open('data.SolidPlates_lower','r') as f:\n",
    "    data = f.read()\n",
    "lines = data.split('\\n')\n",
    "# データの取得\n",
    "bond_list = []\n",
    "serial = 0\n",
    "is_bonds_section = False\n",
    "blank_counter = 0\n",
    "for line in lines:\n",
    "    \n",
    "    if is_bonds_section:\n",
    "        if line:\n",
    "            vals = line.split()\n",
    "            if int(vals[2]) in ids_in_unit_cell:\n",
    "                serial += 1\n",
    "                bond_list.append({\n",
    "                    \"serial\": serial,\n",
    "                    \"id\": int(vals[0]),\n",
    "                    \"type\": int(vals[1]),\n",
    "                    \"atom1\": id_to_sequence[vals[2]],\n",
    "                    \"atom2\": id_to_sequence[vals[3]]\n",
    "                })\n",
    "                if not abs(id_to_sequence[vals[3]][\"cell\"][0]) < 2:\n",
    "                    print(\"Warning\")\n",
    "                if not abs(id_to_sequence[vals[3]][\"cell\"][1]) < 2:\n",
    "                    print(\"Warning\")\n",
    "        else:\n",
    "            blank_counter += 1\n",
    "            if 1 < blank_counter:\n",
    "                is_bonds_section = False\n",
    "                blank_counter = 0\n",
    "                \n",
    "    if line == \"Bonds\":\n",
    "        is_bonds_section = True\n"
   ]
  },
  {
   "cell_type": "markdown",
   "metadata": {
    "heading_collapsed": true,
    "hidden": true
   },
   "source": [
    "#### Angle の取得\n",
    "\n",
    "```\n",
    "angle_list = {\n",
    "    \"serial\": int,\n",
    "    \"id\": int,\n",
    "    \"type\": int,\n",
    "    \"atom1\": {(0, 0) & serial},\n",
    "    \"atom2\": {cell & serial},\n",
    "    \"atom3\": {cell & serial}\n",
    "}\n",
    "```"
   ]
  },
  {
   "cell_type": "code",
   "execution_count": 162,
   "metadata": {
    "ExecuteTime": {
     "end_time": "2017-09-28T07:53:53.155883Z",
     "start_time": "2017-09-28T07:53:52.887500Z"
    },
    "hidden": true
   },
   "outputs": [],
   "source": [
    "# ファイルの読み込み\n",
    "with open('data.SolidPlates_lower','r') as f:\n",
    "    data = f.read()\n",
    "lines = data.split('\\n')\n",
    "# データの取得\n",
    "angle_list = []\n",
    "serial = 0\n",
    "is_angles_section = False\n",
    "blank_counter = 0\n",
    "for line in lines:\n",
    "    \n",
    "    if is_angles_section:\n",
    "        if line:\n",
    "            vals = line.split()\n",
    "            if int(vals[2]) in ids_in_unit_cell:\n",
    "                serial += 1\n",
    "                angle_list.append({\n",
    "                    \"serial\": serial,\n",
    "                    \"id\": int(vals[0]),\n",
    "                    \"type\": int(vals[1]),\n",
    "                    \"atom1\": id_to_sequence[vals[2]],\n",
    "                    \"atom2\": id_to_sequence[vals[3]],\n",
    "                    \"atom3\": id_to_sequence[vals[4]]\n",
    "                })\n",
    "                for i in [3, 4]:\n",
    "                    if not abs(id_to_sequence[vals[i]][\"cell\"][0]) < 2:\n",
    "                        print(\"Warning\")\n",
    "                    if not abs(id_to_sequence[vals[i]][\"cell\"][1]) < 2:\n",
    "                        print(\"Warning\")\n",
    "        else:\n",
    "            blank_counter += 1\n",
    "            if 1 < blank_counter:\n",
    "                is_angles_section = False\n",
    "                blank_counter = 0\n",
    "                \n",
    "    if line == \"Angles\":\n",
    "        is_angles_section = True\n",
    "        "
   ]
  },
  {
   "cell_type": "markdown",
   "metadata": {
    "heading_collapsed": true,
    "hidden": true
   },
   "source": [
    "#### Dihedral の取得\n",
    "\n",
    "```\n",
    "dihedral_list = {\n",
    "    \"serial\": int,\n",
    "    \"id\": int,\n",
    "    \"type\": int,\n",
    "    \"atom1\": {(0, 0) & serial},\n",
    "    \"atom2\": {cell & serial},\n",
    "    \"atom3\": {cell & serial},\n",
    "    \"atom4\": {cell & serial}\n",
    "}\n",
    "```"
   ]
  },
  {
   "cell_type": "code",
   "execution_count": 163,
   "metadata": {
    "ExecuteTime": {
     "end_time": "2017-09-28T07:54:03.856373Z",
     "start_time": "2017-09-28T07:54:03.415905Z"
    },
    "hidden": true
   },
   "outputs": [],
   "source": [
    "# ファイルの読み込み\n",
    "with open('data.SolidPlates_lower','r') as f:\n",
    "    data = f.read()\n",
    "lines = data.split('\\n')\n",
    "# データの取得\n",
    "dihedral_list = []\n",
    "serial = 0\n",
    "is_dihedrals_section = False\n",
    "blank_counter = 0\n",
    "for line in lines:\n",
    "    \n",
    "    if is_dihedrals_section:\n",
    "        if line:\n",
    "            vals = line.split()\n",
    "            if int(vals[2]) in ids_in_unit_cell:\n",
    "                serial += 1\n",
    "                dihedral_list.append({\n",
    "                    \"serial\": serial,\n",
    "                    \"id\": int(vals[0]),\n",
    "                    \"type\": int(vals[1]),\n",
    "                    \"atom1\": id_to_sequence[vals[2]],\n",
    "                    \"atom2\": id_to_sequence[vals[3]],\n",
    "                    \"atom3\": id_to_sequence[vals[4]],\n",
    "                    \"atom4\": id_to_sequence[vals[5]]\n",
    "                })\n",
    "                for i in [3, 4, 5]:\n",
    "                    if not abs(id_to_sequence[vals[i]][\"cell\"][0]) < 2:\n",
    "                        print(\"Warning\")\n",
    "                    if not abs(id_to_sequence[vals[i]][\"cell\"][1]) < 2:\n",
    "                        print(\"Warning\")\n",
    "        else:\n",
    "            blank_counter += 1\n",
    "            if 1 < blank_counter:\n",
    "                is_dihedrals_section = False\n",
    "                blank_counter = 0\n",
    "                \n",
    "    if line == \"Dihedrals\":\n",
    "        is_dihedrals_section = True\n",
    "        "
   ]
  },
  {
   "cell_type": "markdown",
   "metadata": {
    "heading_collapsed": true,
    "hidden": true
   },
   "source": [
    "#### Improper の取得\n",
    "\n",
    "```\n",
    "improper = {\n",
    "    \"serial\": int,\n",
    "    \"id\": int,\n",
    "    \"type\": int,\n",
    "    \"atom1\": {(0, 0) & serial},\n",
    "    \"atom2\": {cell & serial},\n",
    "    \"atom3\": {cell & serial},\n",
    "    \"atom4\": {cell & serial}\n",
    "}\n",
    "```"
   ]
  },
  {
   "cell_type": "code",
   "execution_count": 164,
   "metadata": {
    "ExecuteTime": {
     "end_time": "2017-09-28T07:54:11.530108Z",
     "start_time": "2017-09-28T07:54:11.280713Z"
    },
    "hidden": true
   },
   "outputs": [],
   "source": [
    "# ファイルの読み込み\n",
    "with open('data.SolidPlates_lower','r') as f:\n",
    "    data = f.read()\n",
    "lines = data.split('\\n')\n",
    "# データの取得\n",
    "improper_list = []\n",
    "serial = 0\n",
    "is_impropers_section = False\n",
    "blank_counter = 0\n",
    "for line in lines:\n",
    "    \n",
    "    if is_impropers_section:\n",
    "        if line:\n",
    "            vals = line.split()\n",
    "            if int(vals[2]) in ids_in_unit_cell:\n",
    "                serial += 1\n",
    "                improper_list.append({\n",
    "                    \"serial\": serial,\n",
    "                    \"id\": int(vals[0]),\n",
    "                    \"type\": int(vals[1]),\n",
    "                    \"atom1\": id_to_sequence[vals[2]],\n",
    "                    \"atom2\": id_to_sequence[vals[3]],\n",
    "                    \"atom3\": id_to_sequence[vals[4]],\n",
    "                    \"atom4\": id_to_sequence[vals[5]]\n",
    "                })\n",
    "                for i in [3, 4, 5]:\n",
    "                    if not abs(id_to_sequence[vals[i]][\"cell\"][0]) < 2:\n",
    "                        print(\"Warning\")\n",
    "                    if not abs(id_to_sequence[vals[i]][\"cell\"][1]) < 2:\n",
    "                        print(\"Warning\")\n",
    "        else:\n",
    "            blank_counter += 1\n",
    "            if 1 < blank_counter:\n",
    "                is_impropers_section = False\n",
    "                blank_counter = 0\n",
    "                \n",
    "    if line == \"Impropers\":\n",
    "        is_impropers_section = True\n",
    "        "
   ]
  },
  {
   "cell_type": "markdown",
   "metadata": {
    "heading_collapsed": true
   },
   "source": [
    "### ファイル作成 (Disk)"
   ]
  },
  {
   "cell_type": "code",
   "execution_count": 142,
   "metadata": {
    "ExecuteTime": {
     "end_time": "2017-09-28T04:19:26.417975Z",
     "start_time": "2017-09-28T04:19:26.415195Z"
    },
    "collapsed": true,
    "hidden": true
   },
   "outputs": [],
   "source": [
    "import math"
   ]
  },
  {
   "cell_type": "code",
   "execution_count": 143,
   "metadata": {
    "ExecuteTime": {
     "end_time": "2017-09-28T04:19:27.442258Z",
     "start_time": "2017-09-28T04:19:27.438498Z"
    },
    "collapsed": true,
    "hidden": true
   },
   "outputs": [],
   "source": [
    "# Cell & Serial => ID\n",
    "def getID(num, ix, iy, serial):\n",
    "    return ix*8*num+ iy*num + serial"
   ]
  },
  {
   "cell_type": "markdown",
   "metadata": {
    "heading_collapsed": true,
    "hidden": true
   },
   "source": [
    "#### Header"
   ]
  },
  {
   "cell_type": "code",
   "execution_count": 111,
   "metadata": {
    "ExecuteTime": {
     "end_time": "2017-09-27T13:38:14.618504Z",
     "start_time": "2017-09-27T13:38:14.612354Z"
    },
    "hidden": true
   },
   "outputs": [],
   "source": [
    "header = \"\"\"# LAMMPS InputData\n",
    "\n",
    "{num_atoms} atoms\n",
    "{num_bonds} bonds\n",
    "{num_angles} angles\n",
    "{num_dihedrals} dihedrals\n",
    "{num_impropers} impropers\n",
    "\n",
    "16 atom types\n",
    "6 bond types\n",
    "13 angle types\n",
    "18 dihedral types\n",
    "13 improper types\n",
    "\n",
    "      0.00000000      80.46240000  xlo xhi\n",
    "      0.00000000      80.46240000  ylo yhi\n",
    "      0.00000000     150.00000000  zlo zhi\n",
    "\n",
    "\"\"\".format(\n",
    "    num_atoms=len(atom_list)*8*8,\n",
    "    num_bonds=len(bond_list)*8*8,\n",
    "    num_angles=len(angle_list)*8*8,\n",
    "    num_dihedrals=len(dihedral_list)*8*8,\n",
    "    num_impropers=len(improper_list)*8*8,\n",
    ")"
   ]
  },
  {
   "cell_type": "code",
   "execution_count": 112,
   "metadata": {
    "ExecuteTime": {
     "end_time": "2017-09-27T13:38:15.527348Z",
     "start_time": "2017-09-27T13:38:15.523512Z"
    },
    "hidden": true
   },
   "outputs": [],
   "source": [
    "# Lower solid\n",
    "# ファイルの読み込み\n",
    "with open('data.Disk', 'w') as f:\n",
    "    f.write(header)"
   ]
  },
  {
   "cell_type": "markdown",
   "metadata": {
    "heading_collapsed": true,
    "hidden": true
   },
   "source": [
    "#### Atoms"
   ]
  },
  {
   "cell_type": "code",
   "execution_count": 113,
   "metadata": {
    "ExecuteTime": {
     "end_time": "2017-09-27T13:38:17.028809Z",
     "start_time": "2017-09-27T13:38:16.876705Z"
    },
    "collapsed": true,
    "hidden": true
   },
   "outputs": [],
   "source": [
    "num_atoms = len(atom_list)\n",
    "with open('data.Disk', 'a') as f:\n",
    "    f.write(\"Atoms\\n\")\n",
    "    f.write(\"\\n\")\n",
    "    for i in range(8):\n",
    "        for j in range(8):\n",
    "            for atom in atom_list:\n",
    "                f.write(\n",
    "                    \"{id:6d} 0 {type:2d} {charge:9.6f} {x:12.8f} {y:12.8f} {z:12.8f} 0 0 0\\n\".format(\n",
    "                        id=getID(num_atoms, i, j, atom[\"serial\"]),\n",
    "                        type=atom[\"type\"],\n",
    "                        charge=atom[\"charge\"],\n",
    "                        x=i*10.0578 + atom[\"x\"],\n",
    "                        y=j*10.0578 + atom[\"y\"],\n",
    "                        z=atom[\"z\"]\n",
    "                    ))\n",
    "    f.write(\"\\n\")"
   ]
  },
  {
   "cell_type": "markdown",
   "metadata": {
    "heading_collapsed": true,
    "hidden": true
   },
   "source": [
    "#### Bonds"
   ]
  },
  {
   "cell_type": "code",
   "execution_count": 114,
   "metadata": {
    "ExecuteTime": {
     "end_time": "2017-09-27T13:38:19.123791Z",
     "start_time": "2017-09-27T13:38:18.887692Z"
    },
    "collapsed": true,
    "hidden": true
   },
   "outputs": [],
   "source": [
    "num_atoms = len(atom_list)\n",
    "num_bonds = len(bond_list)\n",
    "with open('data.Disk', 'a') as f:\n",
    "    f.write(\"Bonds\\n\")\n",
    "    f.write(\"\\n\")\n",
    "    for i in range(8):\n",
    "        for j in range(8):\n",
    "            for bond in bond_list:\n",
    "                i_atom1 = i + bond[\"atom1\"][\"cell\"][0]\n",
    "                j_atom1 = j + bond[\"atom1\"][\"cell\"][1]\n",
    "                i_atom2 = i + bond[\"atom2\"][\"cell\"][0]\n",
    "                j_atom2 = j + bond[\"atom2\"][\"cell\"][1]\n",
    "                f.write(\n",
    "                    \"{id:6d} {type:2d} {id1:6d} {id2:6d}\\n\".format(\n",
    "                        id=getID(num_bonds, i, j, bond[\"serial\"]),\n",
    "                        type=bond[\"type\"],\n",
    "                        id1=getID(\n",
    "                            num_atoms,\n",
    "                            i_atom1-math.floor(i_atom1/8)*8,\n",
    "                            j_atom1-math.floor(j_atom1/8)*8,\n",
    "                            bond[\"atom1\"][\"serial\"]\n",
    "                        ),\n",
    "                        id2=getID(\n",
    "                            num_atoms,\n",
    "                            i_atom2-math.floor(i_atom2/8)*8,\n",
    "                            j_atom2-math.floor(j_atom2/8)*8,\n",
    "                            bond[\"atom2\"][\"serial\"]\n",
    "                        )\n",
    "                    ))\n",
    "    f.write(\"\\n\")"
   ]
  },
  {
   "cell_type": "markdown",
   "metadata": {
    "heading_collapsed": true,
    "hidden": true
   },
   "source": [
    "#### Angles"
   ]
  },
  {
   "cell_type": "code",
   "execution_count": 115,
   "metadata": {
    "ExecuteTime": {
     "end_time": "2017-09-27T13:45:24.054438Z",
     "start_time": "2017-09-27T13:45:23.252506Z"
    },
    "collapsed": true,
    "hidden": true
   },
   "outputs": [],
   "source": [
    "num_atoms = len(atom_list)\n",
    "num_angles = len(angle_list)\n",
    "with open('data.Disk', 'a') as f:\n",
    "    f.write(\"Angles\\n\")\n",
    "    f.write(\"\\n\")\n",
    "    for i in range(8):\n",
    "        for j in range(8):\n",
    "            for angle in angle_list:\n",
    "                i_atom1 = i + angle[\"atom1\"][\"cell\"][0]\n",
    "                j_atom1 = j + angle[\"atom1\"][\"cell\"][1]\n",
    "                i_atom2 = i + angle[\"atom2\"][\"cell\"][0]\n",
    "                j_atom2 = j + angle[\"atom2\"][\"cell\"][1]\n",
    "                i_atom3 = i + angle[\"atom3\"][\"cell\"][0]\n",
    "                j_atom3 = j + angle[\"atom3\"][\"cell\"][1]\n",
    "                f.write(\n",
    "                    \"{id:6d} {type:2d} {id1:6d} {id2:6d} {id3:6d}\\n\".format(\n",
    "                        id=getID(num_angles, i, j, angle[\"serial\"]),\n",
    "                        type=angle[\"type\"],\n",
    "                        id1=getID(\n",
    "                            num_atoms,\n",
    "                            i_atom1-math.floor(i_atom1/8)*8,\n",
    "                            j_atom1-math.floor(j_atom1/8)*8,\n",
    "                            angle[\"atom1\"][\"serial\"]\n",
    "                        ),\n",
    "                        id2=getID(\n",
    "                            num_atoms,\n",
    "                            i_atom2-math.floor(i_atom2/8)*8,\n",
    "                            j_atom2-math.floor(j_atom2/8)*8,\n",
    "                            angle[\"atom2\"][\"serial\"]\n",
    "                        ),\n",
    "                        id3=getID(\n",
    "                            num_atoms,\n",
    "                            i_atom3-math.floor(i_atom3/8)*8,\n",
    "                            j_atom3-math.floor(j_atom3/8)*8,\n",
    "                            angle[\"atom3\"][\"serial\"]\n",
    "                        )\n",
    "                    ))\n",
    "    f.write(\"\\n\")"
   ]
  },
  {
   "cell_type": "markdown",
   "metadata": {
    "heading_collapsed": true,
    "hidden": true
   },
   "source": [
    "#### Dihedrals"
   ]
  },
  {
   "cell_type": "code",
   "execution_count": 116,
   "metadata": {
    "ExecuteTime": {
     "end_time": "2017-09-27T13:50:52.890544Z",
     "start_time": "2017-09-27T13:50:50.211020Z"
    },
    "collapsed": true,
    "hidden": true
   },
   "outputs": [],
   "source": [
    "num_atoms = len(atom_list)\n",
    "num_dihedrals = len(dihedral_list)\n",
    "with open('data.Disk', 'a') as f:\n",
    "    f.write(\"Dihedrals\\n\")\n",
    "    f.write(\"\\n\")\n",
    "    for i in range(8):\n",
    "        for j in range(8):\n",
    "            for dihedral in dihedral_list:\n",
    "                i_atom1 = i + dihedral[\"atom1\"][\"cell\"][0]\n",
    "                j_atom1 = j + dihedral[\"atom1\"][\"cell\"][1]\n",
    "                i_atom2 = i + dihedral[\"atom2\"][\"cell\"][0]\n",
    "                j_atom2 = j + dihedral[\"atom2\"][\"cell\"][1]\n",
    "                i_atom3 = i + dihedral[\"atom3\"][\"cell\"][0]\n",
    "                j_atom3 = j + dihedral[\"atom3\"][\"cell\"][1]\n",
    "                i_atom4 = i + dihedral[\"atom4\"][\"cell\"][0]\n",
    "                j_atom4 = j + dihedral[\"atom4\"][\"cell\"][1]\n",
    "                f.write(\n",
    "                    \"{id:6d} {type:2d} {id1:6d} {id2:6d} {id3:6d} {id4:6d}\\n\".format(\n",
    "                        id=getID(num_dihedrals, i, j, dihedral[\"serial\"]),\n",
    "                        type=dihedral[\"type\"],\n",
    "                        id1=getID(\n",
    "                            num_atoms,\n",
    "                            i_atom1-math.floor(i_atom1/8)*8,\n",
    "                            j_atom1-math.floor(j_atom1/8)*8,\n",
    "                            dihedral[\"atom1\"][\"serial\"]\n",
    "                        ),\n",
    "                        id2=getID(\n",
    "                            num_atoms,\n",
    "                            i_atom2-math.floor(i_atom2/8)*8,\n",
    "                            j_atom2-math.floor(j_atom2/8)*8,\n",
    "                            dihedral[\"atom2\"][\"serial\"]\n",
    "                        ),\n",
    "                        id3=getID(\n",
    "                            num_atoms,\n",
    "                            i_atom3-math.floor(i_atom3/8)*8,\n",
    "                            j_atom3-math.floor(j_atom3/8)*8,\n",
    "                            dihedral[\"atom3\"][\"serial\"]\n",
    "                        ),\n",
    "                        id4=getID(\n",
    "                            num_atoms,\n",
    "                            i_atom4-math.floor(i_atom4/8)*8,\n",
    "                            j_atom4-math.floor(j_atom4/8)*8,\n",
    "                            dihedral[\"atom4\"][\"serial\"]\n",
    "                        )\n",
    "                    ))\n",
    "    f.write(\"\\n\")"
   ]
  },
  {
   "cell_type": "markdown",
   "metadata": {
    "heading_collapsed": true,
    "hidden": true
   },
   "source": [
    "#### Impropers"
   ]
  },
  {
   "cell_type": "code",
   "execution_count": 117,
   "metadata": {
    "ExecuteTime": {
     "end_time": "2017-09-27T13:52:44.417141Z",
     "start_time": "2017-09-27T13:52:43.668990Z"
    },
    "collapsed": true,
    "hidden": true
   },
   "outputs": [],
   "source": [
    "num_atoms = len(atom_list)\n",
    "num_impropers = len(improper_list)\n",
    "with open('data.Disk', 'a') as f:\n",
    "    f.write(\"Impropers\\n\")\n",
    "    f.write(\"\\n\")\n",
    "    for i in range(8):\n",
    "        for j in range(8):\n",
    "            for improper in improper_list:\n",
    "                i_atom1 = i + improper[\"atom1\"][\"cell\"][0]\n",
    "                j_atom1 = j + improper[\"atom1\"][\"cell\"][1]\n",
    "                i_atom2 = i + improper[\"atom2\"][\"cell\"][0]\n",
    "                j_atom2 = j + improper[\"atom2\"][\"cell\"][1]\n",
    "                i_atom3 = i + improper[\"atom3\"][\"cell\"][0]\n",
    "                j_atom3 = j + improper[\"atom3\"][\"cell\"][1]\n",
    "                i_atom4 = i + improper[\"atom4\"][\"cell\"][0]\n",
    "                j_atom4 = j + improper[\"atom4\"][\"cell\"][1]\n",
    "                f.write(\n",
    "                    \"{id:6d} {type:2d} {id1:6d} {id2:6d} {id3:6d} {id4:6d}\\n\".format(\n",
    "                        id=getID(num_impropers, i, j, improper[\"serial\"]),\n",
    "                        type=improper[\"type\"],\n",
    "                        id1=getID(\n",
    "                            num_atoms,\n",
    "                            i_atom1-math.floor(i_atom1/8)*8,\n",
    "                            j_atom1-math.floor(j_atom1/8)*8,\n",
    "                            improper[\"atom1\"][\"serial\"]\n",
    "                        ),\n",
    "                        id2=getID(\n",
    "                            num_atoms,\n",
    "                            i_atom2-math.floor(i_atom2/8)*8,\n",
    "                            j_atom2-math.floor(j_atom2/8)*8,\n",
    "                            improper[\"atom2\"][\"serial\"]\n",
    "                        ),\n",
    "                        id3=getID(\n",
    "                            num_atoms,\n",
    "                            i_atom3-math.floor(i_atom3/8)*8,\n",
    "                            j_atom3-math.floor(j_atom3/8)*8,\n",
    "                            improper[\"atom3\"][\"serial\"]\n",
    "                        ),\n",
    "                        id4=getID(\n",
    "                            num_atoms,\n",
    "                            i_atom4-math.floor(i_atom4/8)*8,\n",
    "                            j_atom4-math.floor(j_atom4/8)*8,\n",
    "                            improper[\"atom4\"][\"serial\"]\n",
    "                        )\n",
    "                    ))\n",
    "    f.write(\"\\n\")"
   ]
  },
  {
   "cell_type": "markdown",
   "metadata": {
    "heading_collapsed": true
   },
   "source": [
    "### Unit Cell (Head)"
   ]
  },
  {
   "cell_type": "markdown",
   "metadata": {
    "heading_collapsed": true,
    "hidden": true
   },
   "source": [
    "#### Atom の取得\n",
    "\n",
    "つぎのデータ形式のリストとして得る．分子と周期境界条件に関するデータはすべて 0 なので，記憶しておく必要はない．\n",
    "\n",
    "```\n",
    "atom_list = {\n",
    "    \"serial\": int,\n",
    "    \"id\": int,\n",
    "    \"type\": int,\n",
    "    \"charge\": float,\n",
    "    \"x\": float,\n",
    "    \"y\": float,\n",
    "    \"z\": float\n",
    "}\n",
    "```"
   ]
  },
  {
   "cell_type": "code",
   "execution_count": 165,
   "metadata": {
    "ExecuteTime": {
     "end_time": "2017-09-28T07:54:32.754478Z",
     "start_time": "2017-09-28T07:54:32.537514Z"
    },
    "hidden": true
   },
   "outputs": [],
   "source": [
    "# ファイルの読み込み\n",
    "with open('data.SolidPlates_upper','r') as f:\n",
    "    data = f.read()\n",
    "lines = data.split('\\n')\n",
    "# データの取得\n",
    "atom_list = []\n",
    "serial = 0\n",
    "is_atoms_section = False\n",
    "blank_counter = 0\n",
    "for line in lines:\n",
    "    \n",
    "    if is_atoms_section:\n",
    "        if line:\n",
    "            vals = line.split()\n",
    "            x = float(vals[4])\n",
    "            y = float(vals[5])\n",
    "            if (0.0 < x and x < 10.0578) and (0.0 < y and y < 10.0578):\n",
    "                serial += 1\n",
    "                atom_list.append({\n",
    "                        \"serial\": serial,\n",
    "                        \"id\": int(vals[0]),\n",
    "                        \"type\": int(vals[2]),\n",
    "                        \"charge\": float(vals[3]),\n",
    "                        \"x\": x,\n",
    "                        \"y\": y,\n",
    "                        \"z\": float(vals[6])\n",
    "                })\n",
    "        else:\n",
    "            blank_counter += 1\n",
    "            if 1 < blank_counter:\n",
    "                is_atoms_section = False\n",
    "                blank_counter = 0\n",
    "                \n",
    "    if line == \"Atoms\":\n",
    "        is_atoms_section = True\n"
   ]
  },
  {
   "cell_type": "markdown",
   "metadata": {
    "hidden": true
   },
   "source": [
    "Unit Cell に属する原子の Original ID を集めた Set を作成しておく．"
   ]
  },
  {
   "cell_type": "code",
   "execution_count": 166,
   "metadata": {
    "ExecuteTime": {
     "end_time": "2017-09-28T07:54:35.292338Z",
     "start_time": "2017-09-28T07:54:35.286657Z"
    },
    "hidden": true
   },
   "outputs": [
    {
     "name": "stdout",
     "output_type": "stream",
     "text": [
      "336\n"
     ]
    }
   ],
   "source": [
    "ids_in_unit_cell = []\n",
    "for atom in atom_list:\n",
    "    ids_in_unit_cell.append(atom['id'])\n",
    "ids_in_unit_cell = set(ids_in_unit_cell)\n",
    "print(len(ids_in_unit_cell))"
   ]
  },
  {
   "cell_type": "markdown",
   "metadata": {
    "heading_collapsed": true,
    "hidden": true
   },
   "source": [
    "#### 原子シーケンス用のデータ\n",
    "\n",
    "```\n",
    "{\"cell\": (ix, iy), \"serial\": i}\n",
    "```"
   ]
  },
  {
   "cell_type": "code",
   "execution_count": 167,
   "metadata": {
    "ExecuteTime": {
     "end_time": "2017-09-28T07:54:51.440389Z",
     "start_time": "2017-09-28T07:54:49.879497Z"
    },
    "hidden": true
   },
   "outputs": [],
   "source": [
    "tolerance = 0.1\n",
    "# ファイルの読み込み\n",
    "with open('data.SolidPlates_upper','r') as f:\n",
    "    data = f.read()\n",
    "lines = data.split('\\n')\n",
    "# データの取得\n",
    "id_to_sequence = {}\n",
    "is_atoms_section = False\n",
    "blank_counter = 0\n",
    "for line in lines:\n",
    "    \n",
    "    if is_atoms_section:\n",
    "        if line:\n",
    "            vals = line.split()\n",
    "            x = float(vals[4])\n",
    "            y = float(vals[5])\n",
    "            z = float(vals[6])\n",
    "            ix = int(x/10.0578)\n",
    "            iy = int(y/10.0578)\n",
    "            wrapped_x = x - ix*10.0578\n",
    "            wrapped_y = y - iy*10.0578\n",
    "            correspond_counter = 0\n",
    "            for atom in atom_list:\n",
    "                if (tolerance < abs(atom[\"x\"] - wrapped_x)):\n",
    "                    continue\n",
    "                if (tolerance < abs(atom[\"y\"] - wrapped_y)):\n",
    "                    continue\n",
    "                if (tolerance < abs(atom[\"z\"] - z)):\n",
    "                    continue\n",
    "                correspond_counter += 1\n",
    "                id_to_sequence[vals[0]] = {\n",
    "                    \"cell\": (ix if ix < 9 else -1, iy if iy < 4 else -1),\n",
    "                    \"serial\": atom[\"serial\"]\n",
    "                }\n",
    "            if not correspond_counter == 1:\n",
    "                print(\"Warning\")\n",
    "                \n",
    "        else:\n",
    "            blank_counter += 1\n",
    "            if 1 < blank_counter:\n",
    "                is_atoms_section = False\n",
    "                blank_counter = 0\n",
    "                \n",
    "    if line == \"Atoms\":\n",
    "        is_atoms_section = True\n",
    "        "
   ]
  },
  {
   "cell_type": "markdown",
   "metadata": {
    "heading_collapsed": true,
    "hidden": true
   },
   "source": [
    "#### BADI (Bond, Angle, Dihedral, Improper) の取得\n",
    "\n",
    "```\n",
    "badi = {\n",
    "    \"Bonds\": [{\n",
    "        \"serial\": int,\n",
    "        \"id\": int,\n",
    "        \"type\": int,\n",
    "        \"atoms\": [{(0, 0) & serial}, {cell & serial}]\n",
    "    }, ...],\n",
    "    \"Angles\": [{\n",
    "        \"serial\": int,\n",
    "        \"id\": int,\n",
    "        \"type\": int,\n",
    "        \"atoms\": [{(0, 0) & serial}, {cell & serial}, {cell & serial}]\n",
    "    }, ...],\n",
    "    \"Dihedrals\": [{\n",
    "        \"serial\": int,\n",
    "        \"id\": int,\n",
    "        \"type\": int,\n",
    "        \"atoms\": [{(0, 0) & serial}, {cell & serial}, {cell & serial}, {cell & serial}]\n",
    "    }, ...],\n",
    "    \"Impropers\": [{\n",
    "        \"serial\": int,\n",
    "        \"id\": int,\n",
    "        \"type\": int,\n",
    "        \"atoms\": [{(0, 0) & serial}, {cell & serial}, {cell & serial}, {cell & serial}]\n",
    "    }, ...]\n",
    "}\n",
    "```"
   ]
  },
  {
   "cell_type": "code",
   "execution_count": 138,
   "metadata": {
    "ExecuteTime": {
     "end_time": "2017-09-28T04:13:31.474439Z",
     "start_time": "2017-09-28T04:13:30.819236Z"
    },
    "hidden": true
   },
   "outputs": [
    {
     "name": "stdout",
     "output_type": "stream",
     "text": [
      "0\n"
     ]
    }
   ],
   "source": [
    "# ファイルの読み込み\n",
    "with open('data.SolidPlates_upper','r') as f:\n",
    "    data = f.read()\n",
    "lines = data.split('\\n')\n",
    "# データの取得\n",
    "badi = {\n",
    "    \"Bonds\": [],\n",
    "    \"Angles\": [],\n",
    "    \"Dihedrals\": [],\n",
    "    \"Impropers\": []\n",
    "}\n",
    "serial = {\n",
    "    \"Bonds\": 0,\n",
    "    \"Angles\": 0,\n",
    "    \"Dihedrals\": 0,\n",
    "    \"Impropers\": 0\n",
    "}\n",
    "section_name = None\n",
    "warning_counter = 0\n",
    "for line in lines:\n",
    "    \n",
    "    if line in [\"Bonds\", \"Angles\", \"Dihedrals\", \"Impropers\"]:\n",
    "        section_name = line\n",
    "    elif section_name:\n",
    "        if line:\n",
    "            vals = line.split()\n",
    "            if int(vals[2]) in ids_in_unit_cell:\n",
    "                serial[section_name] += 1\n",
    "                badi[section_name].append({\n",
    "                    \"serial\": serial[section_name],\n",
    "                    \"id\": int(vals[0]),\n",
    "                    \"type\": int(vals[1]),\n",
    "                    \"atoms\": [id_to_sequence[val] for val in vals[2:]]\n",
    "                })\n",
    "                for val in vals[2:]:\n",
    "                    if not abs(id_to_sequence[val][\"cell\"][0]) < 2:\n",
    "                        warning_counter += 1\n",
    "                    if not abs(id_to_sequence[val][\"cell\"][1]) < 2:\n",
    "                        warning_counter += 1\n",
    "        \n",
    "print(warning_counter)"
   ]
  },
  {
   "cell_type": "code",
   "execution_count": 140,
   "metadata": {
    "ExecuteTime": {
     "end_time": "2017-09-28T04:14:05.815155Z",
     "start_time": "2017-09-28T04:14:05.810076Z"
    },
    "hidden": true
   },
   "outputs": [
    {
     "name": "stdout",
     "output_type": "stream",
     "text": [
      "626\n",
      "1816\n",
      "5262\n",
      "1200\n"
     ]
    }
   ],
   "source": [
    "for name in [\"Bonds\", \"Angles\", \"Dihedrals\", \"Impropers\"]:\n",
    "    print(len(badi[name]))"
   ]
  },
  {
   "cell_type": "markdown",
   "metadata": {
    "heading_collapsed": true
   },
   "source": [
    "### ファイル作成 (Head)"
   ]
  },
  {
   "cell_type": "markdown",
   "metadata": {
    "heading_collapsed": true,
    "hidden": true
   },
   "source": [
    "#### Header"
   ]
  },
  {
   "cell_type": "code",
   "execution_count": 144,
   "metadata": {
    "ExecuteTime": {
     "end_time": "2017-09-28T04:23:10.475158Z",
     "start_time": "2017-09-28T04:23:10.468832Z"
    },
    "collapsed": true,
    "hidden": true
   },
   "outputs": [],
   "source": [
    "header = \"\"\"# LAMMPS InputData\n",
    "\n",
    "{num_atoms} atoms\n",
    "{num_bonds} bonds\n",
    "{num_angles} angles\n",
    "{num_dihedrals} dihedrals\n",
    "{num_impropers} impropers\n",
    "\n",
    "16 atom types\n",
    "6 bond types\n",
    "13 angle types\n",
    "18 dihedral types\n",
    "13 improper types\n",
    "\n",
    "      0.00000000      80.46240000  xlo xhi\n",
    "      0.00000000      80.46240000  ylo yhi\n",
    "      0.00000000     150.00000000  zlo zhi\n",
    "\n",
    "\"\"\".format(\n",
    "    num_atoms=len(atom_list)*8*8,\n",
    "    num_bonds=len(badi[\"Bonds\"])*8*8,\n",
    "    num_angles=len(badi[\"Angles\"])*8*8,\n",
    "    num_dihedrals=len(badi[\"Dihedrals\"])*8*8,\n",
    "    num_impropers=len(badi[\"Impropers\"])*8*8,\n",
    ")"
   ]
  },
  {
   "cell_type": "code",
   "execution_count": 145,
   "metadata": {
    "ExecuteTime": {
     "end_time": "2017-09-28T04:23:11.882224Z",
     "start_time": "2017-09-28T04:23:11.877379Z"
    },
    "collapsed": true,
    "hidden": true
   },
   "outputs": [],
   "source": [
    "# Lower solid\n",
    "# ファイルの読み込み\n",
    "with open('data.Head', 'w') as f:\n",
    "    f.write(header)"
   ]
  },
  {
   "cell_type": "markdown",
   "metadata": {
    "heading_collapsed": true,
    "hidden": true
   },
   "source": [
    "#### Atoms"
   ]
  },
  {
   "cell_type": "code",
   "execution_count": 146,
   "metadata": {
    "ExecuteTime": {
     "end_time": "2017-09-28T04:24:58.304199Z",
     "start_time": "2017-09-28T04:24:58.170963Z"
    },
    "collapsed": true,
    "hidden": true
   },
   "outputs": [],
   "source": [
    "num_atoms = len(atom_list)\n",
    "with open('data.Head', 'a') as f:\n",
    "    f.write(\"Atoms\\n\")\n",
    "    f.write(\"\\n\")\n",
    "    for i in range(8):\n",
    "        for j in range(8):\n",
    "            for atom in atom_list:\n",
    "                f.write(\n",
    "                    \"{id:6d} 0 {type:2d} {charge:9.6f} {x:12.8f} {y:12.8f} {z:12.8f} 0 0 0\\n\".format(\n",
    "                        id=getID(num_atoms, i, j, atom[\"serial\"]),\n",
    "                        type=atom[\"type\"],\n",
    "                        charge=atom[\"charge\"],\n",
    "                        x=i*10.0578 + atom[\"x\"],\n",
    "                        y=j*10.0578 + atom[\"y\"],\n",
    "                        z=atom[\"z\"]\n",
    "                    ))\n",
    "    f.write(\"\\n\")"
   ]
  },
  {
   "cell_type": "markdown",
   "metadata": {
    "hidden": true
   },
   "source": [
    "#### BADI (Bond, Angle, Dihedral, Improper)"
   ]
  },
  {
   "cell_type": "code",
   "execution_count": 148,
   "metadata": {
    "ExecuteTime": {
     "end_time": "2017-09-28T04:40:09.984476Z",
     "start_time": "2017-09-28T04:40:03.631354Z"
    },
    "collapsed": true,
    "hidden": true
   },
   "outputs": [],
   "source": [
    "num_atoms = len(atom_list)\n",
    "nums = {name: len(badi[name]) for name in [\"Bonds\", \"Angles\", \"Dihedrals\", \"Impropers\"]}\n",
    "with open('data.Head', 'a') as f:\n",
    "    for name in [\"Bonds\", \"Angles\", \"Dihedrals\", \"Impropers\"]:\n",
    "        f.write(name + \"\\n\")\n",
    "        f.write(\"\\n\")\n",
    "        for i in range(8):\n",
    "            for j in range(8):\n",
    "                for item in badi[name]:\n",
    "                    i_atoms = [i + atom[\"cell\"][0] for atom in item[\"atoms\"]]\n",
    "                    j_atoms = [j + atom[\"cell\"][1] for atom in item[\"atoms\"]]\n",
    "                    new_line = \"{id:6d} {type:2d}\".format(\n",
    "                        id=getID(nums[name], i, j, item[\"serial\"]),\n",
    "                        type=item[\"type\"]\n",
    "                    )\n",
    "                    for i_atom, j_atom, atom in zip(i_atoms, j_atoms, item[\"atoms\"]):\n",
    "                        new_line += \" {:6d}\".format(\n",
    "                            getID(\n",
    "                                num_atoms,\n",
    "                                i_atom-math.floor(i_atom/8)*8, # 周期境界条件の解決\n",
    "                                j_atom-math.floor(j_atom/8)*8, # 周期境界条件の解決\n",
    "                                atom[\"serial\"]\n",
    "                            )\n",
    "                        )\n",
    "                    f.write(new_line + \"\\n\")\n",
    "        f.write(\"\\n\")"
   ]
  },
  {
   "cell_type": "markdown",
   "metadata": {
    "heading_collapsed": true
   },
   "source": [
    "### 注意点\n",
    "\n",
    "原子シーケンスの順不同性が問題になる可能性がある．例えば，両端の原子が \n",
    "\n",
    "```\n",
    "{\"cell\": (0, 0), \"serial\": 3}, {\"cell\": (0, 1), \"serial\": 4}\n",
    "```\n",
    "\n",
    "と\n",
    "\n",
    "```\n",
    "{\"cell\": (0, 0), \"serial\": 4}, {\"cell\": (0, -1), \"serial\": 3}\n",
    "```\n",
    "\n",
    "の 2 つの結合はどちらも Unit Cell に帰属することになってしまうが，同一の結合なので，重複していることになってしまう．\n",
    "\n",
    "とりあえず，Unit Cell 内に含まれる Bonds, Angle, Dihedral, Improper の数は正しいため，問題ないと思われるが，シミュレーション中に固体基板の不安定化などがおきた場合は，この点を確認する必要がある．\n"
   ]
  },
  {
   "cell_type": "markdown",
   "metadata": {
    "heading_collapsed": true
   },
   "source": [
    "### 力場ファイル"
   ]
  },
  {
   "cell_type": "markdown",
   "metadata": {
    "hidden": true
   },
   "source": [
    "\n",
    "* DeH: もともとの Demnum 用力場 = forcefield.DeH\n",
    "* Z_R: 粗さのある表面と Z の力場 = forcefield.Z_roughDiaH\n",
    "* New: 新しい力場\n",
    "\n",
    "#### Atom Type\n",
    "\n",
    "|  Name  |            Description            | DeH | Z_R | New |\n",
    "|:------:|:---------------------------------:|:---:|:---:|:---:|\n",
    "|  c44   |   C connected to 4 heavy atoms    |  1  |  1  |  1  |\n",
    "|  c43   |   C connected to 3 heavy atoms    |  2  |  2  |  2  |\n",
    "|   h1   |                 H                 |  3  |  3  |  3  |\n",
    "|  f14   |            F in Demnum            |  4  |  4  |  4  |\n",
    "|  o2e   |            O in Demnum            |  5  |  5  |  5  |\n",
    "| c44_lt |  C in lower thermostated region   |  6  |  6  |  6  |\n",
    "| c44_lb |      C in lower base region       |  7  |  7  |  7  |\n",
    "| c44_ut |  C in upper thermostated region   |  8  |  8  |  8  |\n",
    "| c44_ub |      C in upper base region       |  9  |  9  |  9  |\n",
    "| c44_d  |        C in Demnum (or Z)         | 10  | 10  | 10  |\n",
    "| c43_lh | C in lower solid & connected to H | 11  | 11  | 11  |\n",
    "| c43_uh | C in upper solid & connected to H | 12  | 12  | 12  |\n",
    "|  h1_l  |         H in lower solid          | 13  | 13  | 13  |\n",
    "|  h1_u  |         H in upper solid          | 14  | 14  | 14  |\n",
    "| c44_li |   C in lower interfacial region   |  -  | 15  | 15  |\n",
    "| c44_ui |   C in upper interfacial region   |  -  | 16  | 16  |\n",
    "\n",
    "mass と pair については forcefield.Z_roughDiaH が流用できる．\n",
    "\n",
    "#### Bond Type\n",
    "\n",
    "| Sequence | DeH | Z_R | New |\n",
    "|:--------:|:---:|:---:|:---:|\n",
    "| c44-c44  |  1  |  1  |     |\n",
    "| c44-c43  |  2  |  2  |     |\n",
    "| c43-c43  |  3  |  3  |     |\n",
    "|  c43-h1  |  4  |  4  |     |\n",
    "| c44-o2e  |  6  |  5  |     |\n",
    "| c44-f14  |  5  |  6  |     |\n",
    "\n",
    "forcefield.DeH が流用できる．\bType が入れ替わっている部分は分子内であり，固体には影響がない．\n",
    "\n",
    "#### Angle Type\n",
    "\n",
    "|  Sequence   | DeH | Z_R | New |\n",
    "|:-----------:|:---:|:---:|:---:|\n",
    "| f14-c44-o2e |  5  |  1  |     |\n",
    "| f14-c44-f14 |  2  |  2  |     |\n",
    "| c44-c44-f14 |  1  |  3  |     |\n",
    "| c44-c44-o2e |  4  |  4  |     |\n",
    "| c44-o2e-c44 |  6  |  5  |     |\n",
    "| o2e-c44-o2e |  -  |  6  |     |\n",
    "| c44-c44-c44 |  3  |  7  |     |\n",
    "| c43-c44-c43 |  7  |  8  |     |\n",
    "| c43-c44-c44 |  8  |  9  |     |\n",
    "| c43-c43-c44 |  9  | 10  |     |\n",
    "| c44-c43-h1  | 10  | 11  |     |\n",
    "| c43-c43-h1  | 11  | 12  |     |\n",
    "| c44-c43-c44 | 12  | 13  |     |\n",
    "\n",
    "forcefield.DeH を使う．固体の DATA ファイルにおいて Angle-type の変更が必要になる．\n",
    "\n",
    "```python\n",
    "convert_dict = {\n",
    "  \"7\": 3,\n",
    "  \"8\": 7,\n",
    "  \"9\": 8,\n",
    "  \"10\": 9,\n",
    "  \"11\": 10,\n",
    "  \"12\": 11,\n",
    "  \"13\": 12\n",
    "}\n",
    "```\n",
    "\n",
    "#### Dihedral Type\n",
    "\n",
    "|    Sequence     | DeH | Z_R | New |\n",
    "|:---------------:|:---:|:---:|:---:|\n",
    "| c44-c44-c44-f14 |  1  |  -  |     |\n",
    "| c44-c44-c44-o2e |  3  |  -  |     |\n",
    "| f14-c44-c44-o2e |  4  |  1  |     |\n",
    "| f14-c44-c44-f14 |  2  |  2  |     |\n",
    "| c44-o2e-c44-f14 |  6  |  3  |     |\n",
    "| o2e-c44-c44-o2e |  -  |  4  |     |\n",
    "| c44-c44-o2e-c44 |  5  |  5  |     |\n",
    "| c44-o2e-c44-o2e |  -  |  6  |     |\n",
    "| c44-c44-c44-c44 |  7  |  7  |     |\n",
    "| c43-c43-c44-c43 |  8  |  8  |     |\n",
    "| c43-c44-c43-h1  |  9  |  9  |     |\n",
    "| c43-c43-c44-c44 | 10  | 10  |     |\n",
    "| c44-c44-c43-h1  | 11  | 11  |     |\n",
    "| c43-c44-c43-c44 | 12  | 12  |     |\n",
    "| c44-c43-c44-c44 | 13  | 13  |     |\n",
    "| c43-c44-c44-c44 | 14  | 14  |     |\n",
    "| c44-c43-c43-c44 | 15  | 15  |     |\n",
    "| c44-c43-c43-h1  | 16  | 16  |     |\n",
    "|  h1-c43-c43-h1  | 17  | 17  |     |\n",
    "| c43-c44-c44-c43 |  -  | 18  |     |\n",
    "\n",
    "forcefield.DeH に forcefield.Z_roughDiaH の 18 番目のものを追加して使える．\n",
    "\n",
    "#### Improper Type\n",
    "\n",
    "|    Sequence     | DeH | Z_R | New |\n",
    "|:---------------:|:---:|:---:|:---:|\n",
    "| c44-c44-c44-c44 |  1  |  1  |     |\n",
    "| c43-c44-c43-c44 |  2  |  2  |     |\n",
    "| c43-c44-c44-c44 |  3  |  3  |     |\n",
    "| c43-c43-c44-h1  |  4  |  4  |     |\n",
    "| c43-c43-c44-c44 |  5  |  5  |     |\n",
    "| c44-c43-c44-h1  |  6  |  6  |     |\n",
    "| c44-c44-c44-f14 | 10  |  -  |     |\n",
    "| f14-c44-f14-o2e |  9  |  7  |     |\n",
    "| f14-c44-f14-f14 | 11  |  8  |     |\n",
    "| c44-c44-f14-f14 |  7  |  9  |     |\n",
    "| c44-c44-f14-o2e |  8  | 10  |     |\n",
    "| f14-c44-o2e-o2e |  -  | 11  |     |\n",
    "| c44-c43-c44-c44 |  -  | 12  |     |\n",
    "| c43-c44-c43-c43 |  -  | 13  |     |\n",
    "\n",
    "forcefield.DeH に forcefield.Z_roughDiaH の 12, 13 番目のものを追加して使える．\n"
   ]
  },
  {
   "cell_type": "markdown",
   "metadata": {
    "heading_collapsed": true,
    "hidden": true
   },
   "source": [
    "#### Angle-type の修正"
   ]
  },
  {
   "cell_type": "code",
   "execution_count": 150,
   "metadata": {
    "ExecuteTime": {
     "end_time": "2017-09-28T07:48:36.039899Z",
     "start_time": "2017-09-28T07:48:36.034352Z"
    },
    "collapsed": true,
    "hidden": true
   },
   "outputs": [],
   "source": [
    "convert_dict = {\n",
    "  \"7\": 3,\n",
    "  \"8\": 7,\n",
    "  \"9\": 8,\n",
    "  \"10\": 9,\n",
    "  \"11\": 10,\n",
    "  \"12\": 11,\n",
    "  \"13\": 12\n",
    "}"
   ]
  },
  {
   "cell_type": "code",
   "execution_count": 154,
   "metadata": {
    "ExecuteTime": {
     "end_time": "2017-09-28T07:49:34.843133Z",
     "start_time": "2017-09-28T07:49:33.960540Z"
    },
    "hidden": true
   },
   "outputs": [],
   "source": [
    "with open(\"data.Disk\", \"r\") as f:\n",
    "    data = f.read()\n",
    "lines = data.split(\"\\n\")\n",
    "# 修正\n",
    "in_Angles = False\n",
    "blank_counter = 0\n",
    "with open(\"data.Disk_new\", \"w\") as f:\n",
    "    for line in lines:\n",
    "        \n",
    "        if in_Angles:\n",
    "            if line:\n",
    "                vals = line.split()\n",
    "                vals[1] = convert_dict[vals[1]]\n",
    "                f.write(\"{:6d} {:2d} {:6d} {:6d} {:6d}\\n\".format(\n",
    "                    int(vals[0]), vals[1], int(vals[2]), int(vals[3]), int(vals[4])\n",
    "                ))\n",
    "            else:\n",
    "                f.write(line + \"\\n\")\n",
    "                blank_counter += 1\n",
    "                if 1 < blank_counter:\n",
    "                    in_Angles = False\n",
    "        else:\n",
    "            f.write(line + \"\\n\")\n",
    "        \n",
    "        if line == \"Angles\":\n",
    "            in_Angles = True\n",
    "            "
   ]
  },
  {
   "cell_type": "code",
   "execution_count": 155,
   "metadata": {
    "ExecuteTime": {
     "end_time": "2017-09-28T07:50:53.391926Z",
     "start_time": "2017-09-28T07:50:52.479185Z"
    },
    "collapsed": true,
    "hidden": true
   },
   "outputs": [],
   "source": [
    "with open(\"data.Head\", \"r\") as f:\n",
    "    data = f.read()\n",
    "lines = data.split(\"\\n\")\n",
    "# 修正\n",
    "in_Angles = False\n",
    "blank_counter = 0\n",
    "with open(\"data.Head_new\", \"w\") as f:\n",
    "    for line in lines:\n",
    "        \n",
    "        if in_Angles:\n",
    "            if line:\n",
    "                vals = line.split()\n",
    "                vals[1] = convert_dict[vals[1]]\n",
    "                f.write(\"{:6d} {:2d} {:6d} {:6d} {:6d}\\n\".format(\n",
    "                    int(vals[0]), vals[1], int(vals[2]), int(vals[3]), int(vals[4])\n",
    "                ))\n",
    "            else:\n",
    "                f.write(line + \"\\n\")\n",
    "                blank_counter += 1\n",
    "                if 1 < blank_counter:\n",
    "                    in_Angles = False\n",
    "        else:\n",
    "            f.write(line + \"\\n\")\n",
    "        \n",
    "        if line == \"Angles\":\n",
    "            in_Angles = True"
   ]
  },
  {
   "cell_type": "code",
   "execution_count": null,
   "metadata": {
    "collapsed": true,
    "hidden": true
   },
   "outputs": [],
   "source": []
  }
 ],
 "metadata": {
  "kernelspec": {
   "display_name": "Python 3",
   "language": "python",
   "name": "python3"
  },
  "language_info": {
   "codemirror_mode": {
    "name": "ipython",
    "version": 3
   },
   "file_extension": ".py",
   "mimetype": "text/x-python",
   "name": "python",
   "nbconvert_exporter": "python",
   "pygments_lexer": "ipython3",
   "version": "3.6.2"
  },
  "toc": {
   "colors": {
    "hover_highlight": "#DAA520",
    "navigate_num": "#000000",
    "navigate_text": "#333333",
    "running_highlight": "#FF0000",
    "selected_highlight": "#FFD700",
    "sidebar_border": "#EEEEEE",
    "wrapper_background": "#FFFFFF"
   },
   "moveMenuLeft": true,
   "nav_menu": {
    "height": "512px",
    "width": "252px"
   },
   "navigate_menu": true,
   "number_sections": true,
   "sideBar": true,
   "threshold": "5",
   "toc_cell": false,
   "toc_section_display": "block",
   "toc_window_display": false,
   "widenNotebook": false
  },
  "varInspector": {
   "cols": {
    "lenName": 16,
    "lenType": 16,
    "lenVar": 40
   },
   "kernels_config": {
    "python": {
     "delete_cmd_postfix": "",
     "delete_cmd_prefix": "del ",
     "library": "var_list.py",
     "varRefreshCmd": "print(var_dic_list())"
    },
    "r": {
     "delete_cmd_postfix": ") ",
     "delete_cmd_prefix": "rm(",
     "library": "var_list.r",
     "varRefreshCmd": "cat(var_dic_list()) "
    }
   },
   "types_to_exclude": [
    "module",
    "function",
    "builtin_function_or_method",
    "instance",
    "_Feature"
   ],
   "window_display": false
  }
 },
 "nbformat": 4,
 "nbformat_minor": 2
}
